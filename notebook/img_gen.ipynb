{
 "cells": [
  {
   "cell_type": "code",
   "execution_count": 1,
   "id": "ddabfe97",
   "metadata": {},
   "outputs": [],
   "source": [
    "from PIL import Image, ImageDraw, ImageFont\n",
    "import numpy as np\n",
    "import yaml\n",
    "import rstr\n",
    "import logging\n",
    "import random\n",
    "import os\n",
    "import time"
   ]
  },
  {
   "cell_type": "code",
   "execution_count": 2,
   "id": "58af856f",
   "metadata": {},
   "outputs": [],
   "source": [
    "def draw_rectangle(draw, centre, size, roundness, colour):\n",
    "    img = draw.im\n",
    "    centre_abs = np.array([img.size[0] * centre[0], img.size[1] * centre[1]])\n",
    "    size_abs = np.array([img.size[0] * size[0], img.size[1] * size[1]])/2\n",
    "    corners = list((centre_abs - size_abs).astype(int)) + list((centre_abs + size_abs).astype(int))\n",
    "    roundness_abs = round(max(size_abs) * roundness / 100)\n",
    "    \n",
    "    draw.rounded_rectangle(corners,\n",
    "                            radius=roundness_abs,\n",
    "                            fill=colour,\n",
    "                            width=0)"
   ]
  },
  {
   "cell_type": "code",
   "execution_count": 3,
   "id": "15e79660",
   "metadata": {},
   "outputs": [],
   "source": [
    "def draw_concenctric_rectangles(draw, centre, base_size, roundness, rects):\n",
    "    img = draw.im\n",
    "    for rect in rects:\n",
    "        border = (1 - rect[0]) * (img.size[0] * base_size[0])\n",
    "        draw_rectangle(draw,\n",
    "                       centre,\n",
    "                       [rect[0] * base_size[0], base_size[1] - border/img.size[1]],\n",
    "                       roundness,\n",
    "                       rect[1])"
   ]
  },
  {
   "cell_type": "code",
   "execution_count": 4,
   "id": "57b9808c",
   "metadata": {},
   "outputs": [],
   "source": [
    "def draw_text(draw, text, centre, height, font_path, colour, font_size100=None):\n",
    "    if not text:\n",
    "        return\n",
    "    \n",
    "    if font_size100 is None:\n",
    "        font_size100 = ImageFont.truetype(font_path, 100).getsize(text)\n",
    "    \n",
    "    img = draw.im\n",
    "    centre_abs = [img.size[0] * centre[0], img.size[1] * centre[1]]\n",
    "    font_size = round(100 * height * img.size[1] / font_size100[1])\n",
    "    text_size = ImageFont.truetype(font_path, font_size).getsize(text)\n",
    "    anchor_point = np.array(centre_abs) - np.array(text_size)/2\n",
    "    \n",
    "    font = ImageFont.truetype(font_path, font_size)\n",
    "    \n",
    "    draw.text((centre_abs[0] - text_size[0]/2, centre_abs[1] - text_size[1]/2), text, fill=colour, font=font)"
   ]
  },
  {
   "cell_type": "code",
   "execution_count": 165,
   "id": "c3bb356b",
   "metadata": {},
   "outputs": [],
   "source": [
    "def stamp_image(img, centre, size, image_path=None, im=None):\n",
    "    if im is None and image_path is None:\n",
    "        return\n",
    "    \n",
    "    if im is None and image_path is not None:\n",
    "        im = Image.open(image_path)\n",
    "        \n",
    "    size_abs = [round(size[0] * img.size[0]), round(size[1] * img.size[1])]\n",
    "    \n",
    "    im = im.resize(size_abs)\n",
    "    \n",
    "    half_size = (np.array(im.size)/2).astype(int)\n",
    "    corner = (np.array(centre) * img.size - half_size).astype(int)\n",
    "    \n",
    "    mask = None\n",
    "    if 'A' in im.getbands():\n",
    "        mask = im\n",
    "    img.paste(im, np.array(im.getbbox()).astype(int) + list(corner) * 2, mask=mask)"
   ]
  },
  {
   "cell_type": "code",
   "execution_count": 6,
   "id": "4382c2cc",
   "metadata": {},
   "outputs": [
    {
     "data": {
      "image/png": "[encoded data removed]",
      "text/plain": [
       "<PIL.Image.Image image mode=RGB size=800x267>"
      ]
     },
     "execution_count": 6,
     "metadata": {},
     "output_type": "execute_result"
    }
   ],
   "source": [
    "scale = 1\n",
    "plate_prop = 1/3\n",
    "width = 800\n",
    "text_prop = 0.88\n",
    "plate_size = [round(width * scale), round(width * plate_prop * scale)]\n",
    "text_anchor_height = 1/6 * plate_size[1]\n",
    "font_sample = 'AAA·0000'\n",
    "\n",
    "\n",
    "font_path = '../data/raw/fonts/mandatory.ttf'\n",
    "text = 'EWP·3530'\n",
    "text2 = 'SP · CAMPINAS'\n",
    "holes = np.array([[0.27, 0.095], [0.045, 0.045]])\n",
    "corners = np.array([[0, 0], [1, 0], [1, 1], [0, 1]])\n",
    "screws = [\n",
    "            (1, '#202020'),\n",
    "            (0.9, '#A0A0A0'),\n",
    "            (0.8, '#505050'),\n",
    "            (0.4, '#202020')\n",
    "        ]\n",
    "screw_size_p = 0.08\n",
    "screw_size = [screw_size_p*plate_prop, screw_size_p]\n",
    "rivets = [\n",
    "            (1, '#202020'),\n",
    "            (0.8, '#A0A0A0'),\n",
    "            (0.2, '#808080')\n",
    "        ]\n",
    "rivets_size_p = 0.05\n",
    "rivets_size = [rivets_size_p*plate_prop, rivets_size_p]\n",
    "borders = [\n",
    "            (1, '#202020'),\n",
    "            (0.995, '#A0A0A0'),\n",
    "            (0.96, '#707070'),\n",
    "            (0.955, '#D0D0D0')\n",
    "        ]\n",
    "city_borders = [\n",
    "            (1, '#202020'),\n",
    "            (0.995, '#909090')\n",
    "        ]\n",
    "\n",
    "font_size100 = ImageFont.truetype(font_path, 100).getsize(font_sample)\n",
    "font_size = round(100 * (width * text_prop) / font_size100[0])\n",
    "\n",
    "img = Image.new('RGB', plate_size, color='#FFFFFF')\n",
    "font = ImageFont.truetype(font_path, font_size)\n",
    "\n",
    "draw = ImageDraw.Draw(img)\n",
    "acc_t = 0\n",
    "\n",
    "draw_concenctric_rectangles(draw, [0.5, 0.5], [1, 1], 5, borders)\n",
    "draw_text(draw, text, [0.5, 0.5], 0.6, font_path, (10, 10, 10))\n",
    "draw_concenctric_rectangles(draw, [0.5, 0.2], [0.8, 0.15], 1, city_borders)\n",
    "draw_text(draw, text2, [0.5, 0.19], 0.10, font_path, (10, 10, 10))\n",
    "draw_concenctric_rectangles(draw, [0.15, 0.19], rivets_size, 200, rivets)\n",
    "draw_concenctric_rectangles(draw, [0.85, 0.19], rivets_size, 200, rivets)\n",
    "draw_rectangle(draw, [0.1, 0.15], [0.1, 0.02], 5, '#A0A0A0')\n",
    "draw_rectangle(draw, [0.095, 0.15], [0.045, 0.09], 50, '#20D010')\n",
    "for corner in corners:\n",
    "    draw_rectangle(draw, corner + holes[0]*(1-2*corner), holes[1], 20, '#F5F5F5')\n",
    "    draw_concenctric_rectangles(draw, corner + holes[0]*(1-2*corner), screw_size, 200, screws)\n",
    "\n",
    "img"
   ]
  },
  {
   "cell_type": "code",
   "execution_count": 111,
   "id": "a2dcb4d9",
   "metadata": {},
   "outputs": [
    {
     "name": "stdout",
     "output_type": "stream",
     "text": [
      "(839, 563) [0.075, 0.18]\n",
      "[60, 43]\n",
      "(60, 43)\n",
      "\n",
      "(640, 448) [0.075, 0.18]\n",
      "[60, 43]\n",
      "(60, 43)\n",
      "\n"
     ]
    },
    {
     "data": {
      "image/png": "[encoded data removed]",
      "text/plain": [
       "<PIL.Image.Image image mode=RGB size=800x240>"
      ]
     },
     "execution_count": 111,
     "metadata": {},
     "output_type": "execute_result"
    }
   ],
   "source": [
    "scale = 1\n",
    "plate_prop = 0.3\n",
    "width = 800\n",
    "text_prop = 0.88\n",
    "plate_size = [round(width * scale), round(width * plate_prop * scale)]\n",
    "text_anchor_height = 1/6 * plate_size[1]\n",
    "font_sample = 'AAA0A00'\n",
    "\n",
    "\n",
    "font_path = '../data/raw/fonts/fe-schrift.ttf'\n",
    "font_path2 = '../data/raw/fonts/country_name2.otf'\n",
    "text = 'EWP3F30'\n",
    "text2 = 'BRASIL'\n",
    "text3 = 'BR'\n",
    "\n",
    "holes = np.array([[0.27, 0.095], [0.045, 0.045]])\n",
    "corners = np.array([[0, 0], [1, 0]])\n",
    "screws = [\n",
    "            (1, '#202020'),\n",
    "            (0.9, '#A0A0A0'),\n",
    "            (0.8, '#505050'),\n",
    "            (0.4, '#303020')\n",
    "        ]\n",
    "screw_size_p = 0.08\n",
    "screw_size = [screw_size_p*plate_prop, screw_size_p]\n",
    "borders = [\n",
    "            (1, '#F0F0F0'),\n",
    "            (0.995, '#101010'),\n",
    "            (0.98, '#F0F0F0')\n",
    "        ]\n",
    "font_size100 = ImageFont.truetype(font_path, 100).getsize(font_sample)\n",
    "font_size = round(100 * (width * text_prop) / font_size100[0])\n",
    "\n",
    "img = Image.new('RGB', plate_size, color='#FFFFFF')\n",
    "font = ImageFont.truetype(font_path, font_size)\n",
    "\n",
    "draw = ImageDraw.Draw(img)\n",
    "acc_t = 0\n",
    "\n",
    "draw_concenctric_rectangles(draw, [0.5, 0.5], [1, 1], 2, borders)\n",
    "draw_text(draw, text, [0.5, 0.6], 0.6, font_path, '#101010')\n",
    "draw_rectangle(draw, [0.5, 0.1], [0.98, 0.13], 2, '#2050A0')\n",
    "draw_rectangle(draw, [0.5, 0.19], [0.98, 0.16], 0, '#2050A0')\n",
    "draw_text(draw, text2, [0.5, 0.15], 0.12, font_path2, (240, 240, 240))\n",
    "draw_text(draw, text3, [0.04, 0.9], 0.12, font_path2, (10, 10, 10))\n",
    "for corner in corners:\n",
    "    draw_rectangle(draw, corner + holes[0]*(1-2*corner), holes[1], 20, '#F5F5F5')\n",
    "    draw_concenctric_rectangles(draw, corner + holes[0]*(1-2*corner), screw_size, 200, screws)\n",
    "    \n",
    "stamp_image(img, [0.08, 0.15], [0.075, 0.18], '../data/raw/images/Flag_of_Mercosul.png')\n",
    "draw_rectangle(draw, [0.92, 0.15], [0.079, 0.19], 0, '#F0F0F0')\n",
    "stamp_image(img, [0.92, 0.15], [0.075, 0.18], '../data/raw/images/Flag_of_Brazil.png')\n",
    "\n",
    "img"
   ]
  },
  {
   "cell_type": "code",
   "execution_count": 8,
   "id": "9de0599a",
   "metadata": {},
   "outputs": [
    {
     "data": {
      "text/plain": [
       "[(1, '#F0F0F0'), (0.995, '#101010'), (0.98, '#F0F0F0')]"
      ]
     },
     "execution_count": 8,
     "metadata": {},
     "output_type": "execute_result"
    }
   ],
   "source": [
    "borders"
   ]
  },
  {
   "cell_type": "code",
   "execution_count": 9,
   "id": "8217b91f",
   "metadata": {},
   "outputs": [],
   "source": [
    "def random_pick(rtype, options):\n",
    "    if rtype == 'random.params':\n",
    "        return None\n",
    "    options = options.copy()\n",
    "    params = options.pop('params')\n",
    "    if rtype == 'random.linear':\n",
    "        delta = params[1] - params[0]\n",
    "        pick = random.random() * delta + params[0]\n",
    "        for name, option in options.items():\n",
    "            option = option.copy()\n",
    "            val = option.pop('random.params', params[1])\n",
    "            if val > pick:\n",
    "                return get_values(option)\n",
    "    \n",
    "    logging.warning(f'No value picked for {rtype}')\n",
    "    return (None, None)"
   ]
  },
  {
   "cell_type": "code",
   "execution_count": 10,
   "id": "410e067d",
   "metadata": {},
   "outputs": [],
   "source": [
    "def replace_value(value, value_keys):\n",
    "    if type(value) is dict:\n",
    "        return get_values(value, value_keys)[0]\n",
    "    elif type(value) is list:\n",
    "        return [replace_value(v, value_keys) for v in value]\n",
    "    elif type(value) is not str:\n",
    "        return value\n",
    "    if value.startswith('reg:'):\n",
    "        return rstr.xeger(value[len('reg:'):])\n",
    "    elif value.startswith('$'):\n",
    "        target = value[1:]\n",
    "        return value_keys.get(target, value)\n",
    "    else:\n",
    "        return value"
   ]
  },
  {
   "cell_type": "code",
   "execution_count": 11,
   "id": "8729d899",
   "metadata": {},
   "outputs": [],
   "source": [
    "def get_values(val_dict, value_keys={}):\n",
    "    result = {}\n",
    "    value_keys = value_keys.copy()\n",
    "    for key, value in val_dict.items():\n",
    "        if key == 'vars':\n",
    "            for v in value:\n",
    "                new_keys, old_keys = get_values(v, value_keys)\n",
    "                if new_keys:\n",
    "                    value_keys.update(new_keys)\n",
    "                if old_keys:\n",
    "                    value_keys.update(old_keys)\n",
    "        elif str(key).startswith('random.'):\n",
    "            value, vk = random_pick(key, value)\n",
    "            if value:\n",
    "                result.update(value)\n",
    "            if vk:\n",
    "                value_keys.update(vk)\n",
    "        elif type(value) is str:\n",
    "            result[key] = replace_value(value, value_keys)\n",
    "        elif type(value) is list:\n",
    "            result[key] = [replace_value(v, value_keys) for v in value]\n",
    "        elif type(value) is dict:\n",
    "            values, vks = get_values(value, value_keys)\n",
    "            result[key] = values\n",
    "            if vks:\n",
    "                value_keys.update(vks)\n",
    "        else:\n",
    "            result[key] = value\n",
    "                    \n",
    "    return result, value_keys"
   ]
  },
  {
   "cell_type": "code",
   "execution_count": 39,
   "id": "c3738615",
   "metadata": {},
   "outputs": [],
   "source": [
    "def build_from_descriptor(description):\n",
    "    img = Image.new('RGBA', description['size'], color='#FFFFFF00')\n",
    "    draw = ImageDraw.Draw(img)\n",
    "    \n",
    "    for component in description['components']:\n",
    "        comp_name = list(component.keys())[0]\n",
    "        content = component[comp_name]\n",
    "        if comp_name == 'concenctric_rectangles':\n",
    "            draw_concenctric_rectangles(draw,\n",
    "                                        content['center'],\n",
    "                                        content['size'],\n",
    "                                        content['roundness'],\n",
    "                                        [list(d.items())[0] for d in content['components']])\n",
    "        elif comp_name == 'text':\n",
    "            draw_text(draw,\n",
    "                      content['content'],\n",
    "                      content['center'],\n",
    "                      content['size'],\n",
    "                      content['font'],\n",
    "                      content['color'])\n",
    "        elif comp_name == 'rectangle':\n",
    "            draw_rectangle(draw,\n",
    "                           content['center'],\n",
    "                           content['size'],\n",
    "                           content['roundness'],\n",
    "                           content['color'])\n",
    "        elif comp_name == 'image':\n",
    "            stamp_image(img,\n",
    "                        content['center'],\n",
    "                        content['size'],\n",
    "                        content['path'])\n",
    "\n",
    "    return img"
   ]
  },
  {
   "cell_type": "code",
   "execution_count": 13,
   "id": "b882cf7a",
   "metadata": {},
   "outputs": [],
   "source": [
    "def gen_plates(descriptor_path):\n",
    "    with open(descriptor_path, encoding='utf8') as f:\n",
    "        desc = yaml.load(f, Loader=yaml.FullLoader)\n",
    "    \n",
    "    generated = set()\n",
    "    config = desc['config']\n",
    "    repeat = config.get('allow_repeat', False)\n",
    "    total = config.get('generate_n', 1)\n",
    "    output_dir = config.get('output_dir', '.')\n",
    "    \n",
    "    for i in range(total):\n",
    "        licence = None\n",
    "        while not licence or licence in generated:\n",
    "            plate_desc, keys = get_values(desc['plates'])\n",
    "            licence = keys['licence_number']\n",
    "        img = build_from_descriptor(plate_desc)\n",
    "        img.save(os.path.join(output_dir, f'{int(time.time())}_{licence}.png'))"
   ]
  },
  {
   "cell_type": "code",
   "execution_count": 14,
   "id": "961294cc",
   "metadata": {},
   "outputs": [],
   "source": [
    "with open('../data/interim/plate_gen.yaml', encoding='utf8') as f:\n",
    "        desc = yaml.load(f, Loader=yaml.FullLoader)"
   ]
  },
  {
   "cell_type": "code",
   "execution_count": 81,
   "id": "7e140ea5",
   "metadata": {
    "scrolled": false
   },
   "outputs": [
    {
     "name": "stdout",
     "output_type": "stream",
     "text": [
      "(839, 563)\n",
      "[60, 60]\n",
      "(60, 40)\n",
      "(60, 60)\n",
      "\n",
      "(1920, 1056)\n",
      "[60, 60]\n",
      "(60, 33)\n",
      "(60, 60)\n",
      "\n"
     ]
    },
    {
     "data": {
      "image/png": "[encoded data removed]",
      "text/plain": [
       "<PIL.Image.Image image mode=RGBA size=800x240>"
      ]
     },
     "execution_count": 81,
     "metadata": {},
     "output_type": "execute_result"
    }
   ],
   "source": [
    "plate = build_from_descriptor(get_values(desc['plates'])[0])\n",
    "plate"
   ]
  },
  {
   "cell_type": "code",
   "execution_count": 224,
   "id": "7adcf214",
   "metadata": {
    "scrolled": false
   },
   "outputs": [
    {
     "data": {
      "image/png": "[encoded data removed]",
      "text/plain": [
       "<PIL.Image.Image image mode=RGBA size=800x600>"
      ]
     },
     "execution_count": 224,
     "metadata": {},
     "output_type": "execute_result"
    }
   ],
   "source": [
    "width = 800\n",
    "text_prop = 0.88\n",
    "plate_size = [800, 600]\n",
    "plate_prop = plate_size[1] / plate_size[0]\n",
    "\n",
    "\n",
    "img = Image.new('RGBA', plate_size, color='#FFFFFF')\n",
    "\n",
    "draw = ImageDraw.Draw(img)\n",
    "acc_t = 0\n",
    "\n",
    "draw_rectangle(draw, [0.5, 0.5], [1, 1], 0, '#C0C0C0')\n",
    "draw_rectangle(draw, [0.5, 0.4], [1, 0.4], 2, '#101010')\n",
    "draw_rectangle(draw, [0.5, 0.2], [1, 0.5], 2, '#4090F0')\n",
    "draw_rectangle(draw, [0.5, 0.325], [0.85, 0.25], 2, '#909090')\n",
    "draw_rectangle(draw, [0.5, 0.35], [0.55, 0.2], 2, '#303030')\n",
    "\n",
    "stamp_image(img, [0.5, 0.355], [0.42, 0.16], im=plate)\n",
    "\n",
    "img"
   ]
  },
  {
   "cell_type": "code",
   "execution_count": 210,
   "id": "d18c02e5",
   "metadata": {},
   "outputs": [
    {
     "data": {
      "text/plain": [
       "['_ArrayData',\n",
       " '_Image__transformer',\n",
       " '__array__',\n",
       " '__class__',\n",
       " '__copy__',\n",
       " '__delattr__',\n",
       " '__dict__',\n",
       " '__dir__',\n",
       " '__doc__',\n",
       " '__enter__',\n",
       " '__eq__',\n",
       " '__exit__',\n",
       " '__format__',\n",
       " '__ge__',\n",
       " '__getattr__',\n",
       " '__getattribute__',\n",
       " '__getstate__',\n",
       " '__gt__',\n",
       " '__hash__',\n",
       " '__init__',\n",
       " '__init_subclass__',\n",
       " '__le__',\n",
       " '__lt__',\n",
       " '__module__',\n",
       " '__ne__',\n",
       " '__new__',\n",
       " '__reduce__',\n",
       " '__reduce_ex__',\n",
       " '__repr__',\n",
       " '__setattr__',\n",
       " '__setstate__',\n",
       " '__sizeof__',\n",
       " '__str__',\n",
       " '__subclasshook__',\n",
       " '__weakref__',\n",
       " '_category',\n",
       " '_close_exclusive_fp_after_loading',\n",
       " '_copy',\n",
       " '_crop',\n",
       " '_dump',\n",
       " '_ensure_mutable',\n",
       " '_exif',\n",
       " '_expand',\n",
       " '_get_safe_box',\n",
       " '_getxmp',\n",
       " '_new',\n",
       " '_repr_png_',\n",
       " '_repr_pretty_',\n",
       " '_size',\n",
       " 'alpha_composite',\n",
       " 'close',\n",
       " 'convert',\n",
       " 'copy',\n",
       " 'crop',\n",
       " 'draft',\n",
       " 'effect_spread',\n",
       " 'encoderconfig',\n",
       " 'encoderinfo',\n",
       " 'entropy',\n",
       " 'filter',\n",
       " 'format',\n",
       " 'format_description',\n",
       " 'frombytes',\n",
       " 'getbands',\n",
       " 'getbbox',\n",
       " 'getchannel',\n",
       " 'getcolors',\n",
       " 'getdata',\n",
       " 'getexif',\n",
       " 'getextrema',\n",
       " 'getim',\n",
       " 'getpalette',\n",
       " 'getpixel',\n",
       " 'getprojection',\n",
       " 'height',\n",
       " 'histogram',\n",
       " 'im',\n",
       " 'info',\n",
       " 'load',\n",
       " 'mode',\n",
       " 'palette',\n",
       " 'paste',\n",
       " 'point',\n",
       " 'putalpha',\n",
       " 'putdata',\n",
       " 'putpalette',\n",
       " 'putpixel',\n",
       " 'pyaccess',\n",
       " 'quantize',\n",
       " 'readonly',\n",
       " 'reduce',\n",
       " 'remap_palette',\n",
       " 'resize',\n",
       " 'rotate',\n",
       " 'save',\n",
       " 'seek',\n",
       " 'show',\n",
       " 'size',\n",
       " 'split',\n",
       " 'tell',\n",
       " 'thumbnail',\n",
       " 'tobitmap',\n",
       " 'tobytes',\n",
       " 'toqimage',\n",
       " 'toqpixmap',\n",
       " 'transform',\n",
       " 'transpose',\n",
       " 'verify',\n",
       " 'width']"
      ]
     },
     "execution_count": 210,
     "metadata": {},
     "output_type": "execute_result"
    }
   ],
   "source": [
    "dir(img)"
   ]
  },
  {
   "cell_type": "code",
   "execution_count": 220,
   "id": "a23b08e7",
   "metadata": {},
   "outputs": [],
   "source": [
    "img.putalpha(100)"
   ]
  },
  {
   "cell_type": "code",
   "execution_count": 221,
   "id": "456a27c9",
   "metadata": {},
   "outputs": [
    {
     "data": {
      "image/png": "[encoded data removed]",
      "text/plain": [
       "<PIL.Image.Image image mode=RGBA size=800x600>"
      ]
     },
     "execution_count": 221,
     "metadata": {},
     "output_type": "execute_result"
    }
   ],
   "source": [
    "img"
   ]
  },
  {
   "cell_type": "code",
   "execution_count": null,
   "id": "edecda8f",
   "metadata": {},
   "outputs": [],
   "source": []
  }
 ],
 "metadata": {
  "kernelspec": {
   "display_name": "Python 3 (ipykernel)",
   "language": "python",
   "name": "python3"
  },
  "language_info": {
   "codemirror_mode": {
    "name": "ipython",
    "version": 3
   },
   "file_extension": ".py",
   "mimetype": "text/x-python",
   "name": "python",
   "nbconvert_exporter": "python",
   "pygments_lexer": "ipython3",
   "version": "3.10.4"
  }
 },
 "nbformat": 4,
 "nbformat_minor": 5
}
